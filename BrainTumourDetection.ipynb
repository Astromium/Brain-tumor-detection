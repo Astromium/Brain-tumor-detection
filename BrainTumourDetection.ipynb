{
 "cells": [
  {
   "cell_type": "code",
   "execution_count": 1,
   "metadata": {
    "id": "VazffCjt6k7l"
   },
   "outputs": [],
   "source": [
    "import warnings\n",
    "warnings.filterwarnings('ignore')"
   ]
  },
  {
   "cell_type": "code",
   "execution_count": 2,
   "metadata": {
    "id": "cLg6qVnHdYV6"
   },
   "outputs": [],
   "source": [
    "import numpy as np\n",
    "import matplotlib.pyplot as plt\n",
    "import os\n",
    "import math\n",
    "import shutil\n",
    "import glob"
   ]
  },
  {
   "cell_type": "code",
   "execution_count": null,
   "metadata": {
    "id": "-teZ_fOxf9dU"
   },
   "outputs": [],
   "source": [
    "root_dir = './dataset' \n",
    "number_of_images = {}\n",
    "\n",
    "for dir in os.listdir(root_dir):\n",
    "    number_of_images[dir] = len(os.listdir(os.path.join(root_dir, dir)))"
   ]
  },
  {
   "cell_type": "code",
   "execution_count": null,
   "metadata": {
    "colab": {
     "base_uri": "https://localhost:8080/"
    },
    "id": "vuDwxMV6gDba",
    "outputId": "5504e445-5468-41fc-c8e8-ca12e9e7043c"
   },
   "outputs": [
    {
     "data": {
      "text/plain": [
       "{'.ipynb_checkpoints': 0, 'Healthy': 1360, 'Sick': 1355}"
      ]
     },
     "execution_count": 7,
     "metadata": {},
     "output_type": "execute_result"
    }
   ],
   "source": [
    "number_of_images"
   ]
  },
  {
   "cell_type": "code",
   "execution_count": null,
   "metadata": {
    "id": "O7Yo5fIagG4Y"
   },
   "outputs": [],
   "source": [
    "os.rmdir('/content/dataset/.ipynb_checkpoints')"
   ]
  },
  {
   "cell_type": "code",
   "execution_count": null,
   "metadata": {
    "id": "7r4UXXrsgOdz"
   },
   "outputs": [],
   "source": [
    "def data_folder(path, split):\n",
    "    if not os.path.exists('./' + path):\n",
    "        os.mkdir('./' + path)\n",
    "    \n",
    "        for dir in os.listdir(root_dir):\n",
    "            os.makedirs('./' + path + '/' + dir)\n",
    "            for img in np.random.choice(a = os.listdir(os.path.join(root_dir, dir)), size = (math.floor(split * number_of_images[dir]) - 5), replace=False):\n",
    "                original = os.path.join(root_dir, dir, img)\n",
    "                destination = os.path.join('./' + path, dir)\n",
    "                shutil.copy(original, destination)\n",
    "                os.remove(original)\n",
    "    else:\n",
    "        print('Folder exist already')"
   ]
  },
  {
   "cell_type": "code",
   "execution_count": null,
   "metadata": {
    "id": "_LTu92WRgUVR"
   },
   "outputs": [],
   "source": [
    "data_folder('train', 0.7)"
   ]
  },
  {
   "cell_type": "code",
   "execution_count": null,
   "metadata": {
    "id": "fI7c_EwYgWeT"
   },
   "outputs": [],
   "source": [
    "data_folder('validation', 0.15)"
   ]
  },
  {
   "cell_type": "code",
   "execution_count": null,
   "metadata": {
    "id": "IGkqSbBjgYKD"
   },
   "outputs": [],
   "source": [
    "data_folder('test', 0.15)"
   ]
  },
  {
   "cell_type": "code",
   "execution_count": 5,
   "metadata": {
    "id": "DSY_xv28gZuW"
   },
   "outputs": [],
   "source": [
    "from keras.layers import Conv2D, MaxPool2D, Dropout, Flatten, Dense, BatchNormalization, GlobalAvgPool2D\n",
    "from keras.models import Sequential\n",
    "from keras.preprocessing.image import load_img, img_to_array\n",
    "import keras"
   ]
  },
  {
   "cell_type": "code",
   "execution_count": null,
   "metadata": {
    "id": "NbOuFCBIgfsP"
   },
   "outputs": [],
   "source": [
    "model = Sequential()\n",
    "\n",
    "model.add(Conv2D(filters = 16, kernel_size = (3,3), activation = 'relu', input_shape = (630,630,3)))\n",
    "model.add(BatchNormalization())\n",
    "model.add(Conv2D(filters = 36, kernel_size = (3,3), activation = 'relu'))\n",
    "model.add(BatchNormalization())\n",
    "model.add(MaxPool2D(pool_size=(2,2)))\n",
    "model.add(Conv2D(filters = 64, kernel_size = (3,3), activation = 'relu'))\n",
    "model.add(BatchNormalization())\n",
    "model.add(MaxPool2D(pool_size=(2,2)))\n",
    "model.add(Conv2D(filters = 128, kernel_size = (3,3), activation = 'relu'))\n",
    "model.add(BatchNormalization())\n",
    "model.add(MaxPool2D(pool_size=(2,2)))\n",
    "model.add(Dropout(rate = 0.3))\n",
    "model.add(Flatten())\n",
    "model.add(Dense(64, activation = 'relu'))\n",
    "model.add(BatchNormalization())\n",
    "model.add(Dropout(rate = 0.3))\n",
    "model.add(BatchNormalization())\n",
    "model.add(Dense(1, activation = 'sigmoid'))"
   ]
  },
  {
   "cell_type": "code",
   "execution_count": null,
   "metadata": {
    "colab": {
     "base_uri": "https://localhost:8080/"
    },
    "id": "mVptCIFvgjJV",
    "outputId": "d584ef30-8911-4c11-a330-804476502e64"
   },
   "outputs": [
    {
     "name": "stdout",
     "output_type": "stream",
     "text": [
      "Model: \"sequential\"\n",
      "_________________________________________________________________\n",
      " Layer (type)                Output Shape              Param #   \n",
      "=================================================================\n",
      " conv2d (Conv2D)             (None, 628, 628, 16)      448       \n",
      "                                                                 \n",
      " batch_normalization (BatchN  (None, 628, 628, 16)     64        \n",
      " ormalization)                                                   \n",
      "                                                                 \n",
      " conv2d_1 (Conv2D)           (None, 626, 626, 36)      5220      \n",
      "                                                                 \n",
      " batch_normalization_1 (Batc  (None, 626, 626, 36)     144       \n",
      " hNormalization)                                                 \n",
      "                                                                 \n",
      " max_pooling2d (MaxPooling2D  (None, 313, 313, 36)     0         \n",
      " )                                                               \n",
      "                                                                 \n",
      " conv2d_2 (Conv2D)           (None, 311, 311, 64)      20800     \n",
      "                                                                 \n",
      " batch_normalization_2 (Batc  (None, 311, 311, 64)     256       \n",
      " hNormalization)                                                 \n",
      "                                                                 \n",
      " max_pooling2d_1 (MaxPooling  (None, 155, 155, 64)     0         \n",
      " 2D)                                                             \n",
      "                                                                 \n",
      " conv2d_3 (Conv2D)           (None, 153, 153, 128)     73856     \n",
      "                                                                 \n",
      " batch_normalization_3 (Batc  (None, 153, 153, 128)    512       \n",
      " hNormalization)                                                 \n",
      "                                                                 \n",
      " max_pooling2d_2 (MaxPooling  (None, 76, 76, 128)      0         \n",
      " 2D)                                                             \n",
      "                                                                 \n",
      " dropout (Dropout)           (None, 76, 76, 128)       0         \n",
      "                                                                 \n",
      " flatten (Flatten)           (None, 739328)            0         \n",
      "                                                                 \n",
      " dense (Dense)               (None, 64)                47317056  \n",
      "                                                                 \n",
      " batch_normalization_4 (Batc  (None, 64)               256       \n",
      " hNormalization)                                                 \n",
      "                                                                 \n",
      " dropout_1 (Dropout)         (None, 64)                0         \n",
      "                                                                 \n",
      " batch_normalization_5 (Batc  (None, 64)               256       \n",
      " hNormalization)                                                 \n",
      "                                                                 \n",
      " dense_1 (Dense)             (None, 1)                 65        \n",
      "                                                                 \n",
      "=================================================================\n",
      "Total params: 47,418,933\n",
      "Trainable params: 47,418,189\n",
      "Non-trainable params: 744\n",
      "_________________________________________________________________\n"
     ]
    }
   ],
   "source": [
    "model.summary()"
   ]
  },
  {
   "cell_type": "code",
   "execution_count": null,
   "metadata": {
    "id": "uEvr49-MglhU"
   },
   "outputs": [],
   "source": [
    "model.compile(optimizer='adam', loss=keras.losses.BinaryCrossentropy(), metrics=['accuracy'])"
   ]
  },
  {
   "cell_type": "code",
   "execution_count": null,
   "metadata": {
    "id": "vQLgwO2_gokH"
   },
   "outputs": [],
   "source": [
    "from keras.preprocessing.image import ImageDataGenerator"
   ]
  },
  {
   "cell_type": "code",
   "execution_count": null,
   "metadata": {
    "id": "sdT1fm5Tgqao"
   },
   "outputs": [],
   "source": [
    "def preprocess_images(path):\n",
    "    # data augmentation\n",
    "    image_data = ImageDataGenerator(zoom_range=0.2, shear_range=0.2, rescale=1/255, horizontal_flip=True)\n",
    "    image = image_data.flow_from_directory(directory=path, target_size=(630, 630), batch_size=32, class_mode='binary')\n",
    "    return image"
   ]
  },
  {
   "cell_type": "code",
   "execution_count": null,
   "metadata": {
    "colab": {
     "base_uri": "https://localhost:8080/"
    },
    "id": "FmyGfy73gsUb",
    "outputId": "52347984-d8b0-4486-d394-c3611483bb37"
   },
   "outputs": [
    {
     "name": "stdout",
     "output_type": "stream",
     "text": [
      "Found 1889 images belonging to 2 classes.\n"
     ]
    }
   ],
   "source": [
    "path = './train'\n",
    "train_data = preprocess_images(path)"
   ]
  },
  {
   "cell_type": "code",
   "execution_count": null,
   "metadata": {
    "id": "7UDr4NsVguYQ"
   },
   "outputs": [],
   "source": [
    "def preprocess_test_images(path):\n",
    "    # data augmentation\n",
    "    image_data = ImageDataGenerator(rescale=1/255)\n",
    "    image = image_data.flow_from_directory(directory=path, target_size=(630, 630), batch_size=32, class_mode='binary')\n",
    "    return image"
   ]
  },
  {
   "cell_type": "code",
   "execution_count": null,
   "metadata": {
    "colab": {
     "base_uri": "https://localhost:8080/"
    },
    "id": "0gDbQoGQgxnD",
    "outputId": "e5266886-3894-4f15-e864-926e7dc2dbb1"
   },
   "outputs": [
    {
     "name": "stdout",
     "output_type": "stream",
     "text": [
      "Found 397 images belonging to 2 classes.\n"
     ]
    }
   ],
   "source": [
    "path = './test'\n",
    "test_data = preprocess_test_images(path)"
   ]
  },
  {
   "cell_type": "code",
   "execution_count": null,
   "metadata": {
    "colab": {
     "base_uri": "https://localhost:8080/"
    },
    "id": "KmwHZU_WgzW_",
    "outputId": "2fb82bec-e597-47d4-ed94-667ce73a2282"
   },
   "outputs": [
    {
     "name": "stdout",
     "output_type": "stream",
     "text": [
      "Found 397 images belonging to 2 classes.\n"
     ]
    }
   ],
   "source": [
    "path = './validation'\n",
    "validation_data = preprocess_test_images(path)"
   ]
  },
  {
   "cell_type": "code",
   "execution_count": null,
   "metadata": {
    "id": "04MV3Xu6g2q3"
   },
   "outputs": [],
   "source": [
    "from keras.callbacks import EarlyStopping, ModelCheckpoint\n",
    "early_stopping = EarlyStopping(\n",
    "    min_delta=0.001, # minimium amount of change to count as an improvement\n",
    "    patience=20, # how many epochs to wait before stopping\n",
    "    restore_best_weights=True,\n",
    "    monitor='val_accuracy'\n",
    ")\n",
    "check_point = ModelCheckpoint(\n",
    "    monitor='val_accuracy',\n",
    "    save_best_only=True,\n",
    "    mode='auto',\n",
    "    filepath='./model.h5'\n",
    ")\n",
    "callbacks = [early_stopping, check_point]"
   ]
  },
  {
   "cell_type": "code",
   "execution_count": 23,
   "metadata": {
    "colab": {
     "base_uri": "https://localhost:8080/"
    },
    "id": "tRxMFt6ShH0i",
    "outputId": "d3929d25-f1dd-462d-9435-1ec4c15a29bb"
   },
   "outputs": [
    {
     "name": "stdout",
     "output_type": "stream",
     "text": [
      "Epoch 1/30\n",
      "46/46 [==============================] - 195s 4s/step - loss: 0.6783 - accuracy: 0.7037 - val_loss: 4.0134 - val_accuracy: 0.5013\n",
      "Epoch 2/30\n",
      "46/46 [==============================] - 165s 4s/step - loss: 0.5517 - accuracy: 0.7303 - val_loss: 1.9405 - val_accuracy: 0.5013\n",
      "Epoch 3/30\n",
      "46/46 [==============================] - 164s 4s/step - loss: 0.5559 - accuracy: 0.7283 - val_loss: 0.8356 - val_accuracy: 0.5038\n",
      "Epoch 4/30\n",
      "46/46 [==============================] - 165s 4s/step - loss: 0.4878 - accuracy: 0.7670 - val_loss: 0.7413 - val_accuracy: 0.5416\n",
      "Epoch 5/30\n",
      "46/46 [==============================] - 164s 4s/step - loss: 0.4050 - accuracy: 0.8175 - val_loss: 0.9154 - val_accuracy: 0.5567\n",
      "Epoch 6/30\n",
      "46/46 [==============================] - 162s 4s/step - loss: 0.3713 - accuracy: 0.8459 - val_loss: 1.1506 - val_accuracy: 0.5869\n",
      "Epoch 7/30\n",
      "46/46 [==============================] - 163s 4s/step - loss: 0.3222 - accuracy: 0.8619 - val_loss: 0.7043 - val_accuracy: 0.6625\n",
      "Epoch 8/30\n",
      "46/46 [==============================] - 165s 4s/step - loss: 0.3484 - accuracy: 0.8543 - val_loss: 0.5276 - val_accuracy: 0.7557\n",
      "Epoch 9/30\n",
      "46/46 [==============================] - 166s 4s/step - loss: 0.3023 - accuracy: 0.8668 - val_loss: 0.5860 - val_accuracy: 0.7783\n",
      "Epoch 10/30\n",
      "46/46 [==============================] - 163s 4s/step - loss: 0.3470 - accuracy: 0.8584 - val_loss: 2.4546 - val_accuracy: 0.5592\n",
      "Epoch 11/30\n",
      "46/46 [==============================] - 165s 4s/step - loss: 0.3562 - accuracy: 0.8397 - val_loss: 0.4717 - val_accuracy: 0.8010\n",
      "Epoch 12/30\n",
      "46/46 [==============================] - 164s 4s/step - loss: 0.3420 - accuracy: 0.8584 - val_loss: 0.2658 - val_accuracy: 0.9068\n",
      "Epoch 13/30\n",
      "46/46 [==============================] - 161s 3s/step - loss: 0.2593 - accuracy: 0.8904 - val_loss: 0.2999 - val_accuracy: 0.8816\n",
      "Epoch 14/30\n",
      "46/46 [==============================] - 161s 3s/step - loss: 0.2232 - accuracy: 0.9209 - val_loss: 0.2322 - val_accuracy: 0.9270\n",
      "Epoch 15/30\n",
      "46/46 [==============================] - 160s 3s/step - loss: 0.2065 - accuracy: 0.9209 - val_loss: 0.2750 - val_accuracy: 0.8967\n",
      "Epoch 16/30\n",
      "46/46 [==============================] - 160s 3s/step - loss: 0.2362 - accuracy: 0.9133 - val_loss: 0.1766 - val_accuracy: 0.9244\n",
      "Epoch 17/30\n",
      "46/46 [==============================] - 162s 4s/step - loss: 0.2004 - accuracy: 0.9223 - val_loss: 0.1598 - val_accuracy: 0.9446\n",
      "Epoch 18/30\n",
      "46/46 [==============================] - 160s 3s/step - loss: 0.1910 - accuracy: 0.9223 - val_loss: 0.5056 - val_accuracy: 0.7909\n",
      "Epoch 19/30\n",
      "46/46 [==============================] - 154s 3s/step - loss: 0.1865 - accuracy: 0.9223 - val_loss: 0.1962 - val_accuracy: 0.9270\n",
      "Epoch 20/30\n",
      "46/46 [==============================] - 157s 3s/step - loss: 0.1717 - accuracy: 0.9362 - val_loss: 0.6873 - val_accuracy: 0.7406\n",
      "Epoch 21/30\n",
      "46/46 [==============================] - 156s 3s/step - loss: 0.1778 - accuracy: 0.9348 - val_loss: 0.3168 - val_accuracy: 0.8942\n",
      "Epoch 22/30\n",
      "46/46 [==============================] - 155s 3s/step - loss: 0.1470 - accuracy: 0.9473 - val_loss: 0.4322 - val_accuracy: 0.8640\n",
      "Epoch 23/30\n",
      "46/46 [==============================] - 157s 3s/step - loss: 0.3412 - accuracy: 0.8471 - val_loss: 0.4292 - val_accuracy: 0.8212\n",
      "Epoch 24/30\n",
      "46/46 [==============================] - 157s 3s/step - loss: 0.2692 - accuracy: 0.8855 - val_loss: 0.2826 - val_accuracy: 0.8892\n",
      "Epoch 25/30\n",
      "46/46 [==============================] - 156s 3s/step - loss: 0.2110 - accuracy: 0.9160 - val_loss: 0.3532 - val_accuracy: 0.8589\n",
      "Epoch 26/30\n",
      "46/46 [==============================] - 157s 3s/step - loss: 0.2551 - accuracy: 0.9001 - val_loss: 0.2250 - val_accuracy: 0.9194\n",
      "Epoch 27/30\n",
      "46/46 [==============================] - 156s 3s/step - loss: 0.1870 - accuracy: 0.9244 - val_loss: 0.6183 - val_accuracy: 0.7154\n",
      "Epoch 28/30\n",
      "46/46 [==============================] - 159s 3s/step - loss: 0.1929 - accuracy: 0.9181 - val_loss: 0.2391 - val_accuracy: 0.8992\n",
      "Epoch 29/30\n",
      "46/46 [==============================] - 162s 4s/step - loss: 0.1816 - accuracy: 0.9232 - val_loss: 0.1558 - val_accuracy: 0.9471\n",
      "Epoch 30/30\n",
      "46/46 [==============================] - 159s 3s/step - loss: 0.1489 - accuracy: 0.9457 - val_loss: 0.2394 - val_accuracy: 0.9144\n"
     ]
    }
   ],
   "source": [
    "history = model.fit_generator(\n",
    "    generator=train_data, \n",
    "    steps_per_epoch=46, \n",
    "    epochs=30, \n",
    "    verbose=1, \n",
    "    validation_data=validation_data, \n",
    "    validation_steps=13, \n",
    "    callbacks=callbacks\n",
    ")"
   ]
  },
  {
   "cell_type": "code",
   "execution_count": 24,
   "metadata": {
    "colab": {
     "base_uri": "https://localhost:8080/"
    },
    "id": "2u9WTiXlhUcG",
    "outputId": "37213fce-7621-4dda-ea7b-f0f6956cc939"
   },
   "outputs": [
    {
     "data": {
      "text/plain": [
       "<keras.callbacks.History at 0x7fcd95d33fd0>"
      ]
     },
     "execution_count": 24,
     "metadata": {},
     "output_type": "execute_result"
    }
   ],
   "source": [
    "history"
   ]
  },
  {
   "cell_type": "code",
   "execution_count": 28,
   "metadata": {
    "id": "rODHs40s81O4"
   },
   "outputs": [],
   "source": [
    "hs = history.history"
   ]
  },
  {
   "cell_type": "code",
   "execution_count": 29,
   "metadata": {
    "colab": {
     "base_uri": "https://localhost:8080/",
     "height": 298
    },
    "id": "l-7D8Sd484Ye",
    "outputId": "02f7db0c-dac0-4ccc-ab70-b87446c92017"
   },
   "outputs": [
    {
     "data": {
      "text/plain": [
       "Text(0.5, 1.0, 'Accuracy vs Validation Accuracy')"
      ]
     },
     "execution_count": 29,
     "metadata": {},
     "output_type": "execute_result"
    },
    {
     "data": {
      "image/png": "[encoded data removed]",
      "text/plain": [
       "<Figure size 432x288 with 1 Axes>"
      ]
     },
     "metadata": {
      "needs_background": "light"
     },
     "output_type": "display_data"
    }
   ],
   "source": [
    "plt.plot(hs['accuracy'], c = 'red')\n",
    "plt.plot(hs['val_accuracy'])\n",
    "plt.title('Accuracy vs Validation Accuracy')"
   ]
  },
  {
   "cell_type": "code",
   "execution_count": 30,
   "metadata": {
    "colab": {
     "base_uri": "https://localhost:8080/",
     "height": 298
    },
    "id": "0zCK3o_u9Mxy",
    "outputId": "9b8c931f-da0c-4d29-ac67-20eeb64bf3e3"
   },
   "outputs": [
    {
     "data": {
      "text/plain": [
       "Text(0.5, 1.0, 'Loss vs Validation Loss')"
      ]
     },
     "execution_count": 30,
     "metadata": {},
     "output_type": "execute_result"
    },
    {
     "data": {
      "image/png": "[encoded data removed]",
      "text/plain": [
       "<Figure size 432x288 with 1 Axes>"
      ]
     },
     "metadata": {
      "needs_background": "light"
     },
     "output_type": "display_data"
    }
   ],
   "source": [
    "plt.plot(hs['loss'], c = 'red')\n",
    "plt.plot(hs['val_loss'])\n",
    "plt.title('Loss vs Validation Loss')"
   ]
  },
  {
   "cell_type": "code",
   "execution_count": 8,
   "metadata": {
    "id": "q-q8YPGM9VOw"
   },
   "outputs": [],
   "source": [
    "from keras.models import load_model\n",
    "model2 = load_model('./model.h5')"
   ]
  },
  {
   "cell_type": "code",
   "execution_count": 64,
   "metadata": {
    "colab": {
     "base_uri": "https://localhost:8080/"
    },
    "id": "wOy15ZGp9vuH",
    "outputId": "4999722f-7f5c-49cb-f8e3-cdb72d97d504"
   },
   "outputs": [
    {
     "name": "stdout",
     "output_type": "stream",
     "text": [
      "Accuracy : 50.1259446144104%\n"
     ]
    }
   ],
   "source": [
    "acc = model2.evaluate_generator(test_data)[1]\n",
    "print(f'Accuracy : {acc * 100}%')"
   ]
  },
  {
   "cell_type": "code",
   "execution_count": 33,
   "metadata": {
    "colab": {
     "base_uri": "https://localhost:8080/"
    },
    "id": "3hMnAZ3596T1",
    "outputId": "c1b13c01-441c-446e-b534-963010ae098a"
   },
   "outputs": [
    {
     "data": {
      "text/plain": [
       "{'Healthy': 0, 'Sick': 1}"
      ]
     },
     "execution_count": 33,
     "metadata": {},
     "output_type": "execute_result"
    }
   ],
   "source": [
    "train_data.class_indices"
   ]
  },
  {
   "cell_type": "code",
   "execution_count": 9,
   "metadata": {
    "colab": {
     "base_uri": "https://localhost:8080/",
     "height": 269
    },
    "id": "78mEeZnF-Zyg",
    "outputId": "76fdb555-4cd2-4319-af03-17a4f632dfde"
   },
   "outputs": [
    {
     "data": {
      "image/png": "[encoded data removed]",
      "text/plain": [
       "<Figure size 432x288 with 1 Axes>"
      ]
     },
     "metadata": {
      "needs_background": "light"
     },
     "output_type": "display_data"
    }
   ],
   "source": [
    "# some prediction \n",
    "path = './train/Healthy/No12.jpg'\n",
    "img = load_img(path, target_size=(630,630))\n",
    "plt.imshow(img)\n",
    "input_arr = img_to_array(img)/255.0\n",
    "input_arr = np.expand_dims(input_arr, axis = 0)\n",
    "plt.show()"
   ]
  },
  {
   "cell_type": "code",
   "execution_count": 10,
   "metadata": {
    "colab": {
     "base_uri": "https://localhost:8080/"
    },
    "id": "lND_-ojj_FIT",
    "outputId": "d3fbc91b-cdb4-457c-a2b9-2e3ef0a1f7db"
   },
   "outputs": [
    {
     "name": "stdout",
     "output_type": "stream",
     "text": [
      "Healthy\n"
     ]
    }
   ],
   "source": [
    "pred = (model2.predict(input_arr) > 0.5).astype(\"int32\")\n",
    "pred[0][0]\n",
    "\n",
    "if pred == 0:\n",
    "  print('Healthy')\n",
    "else:\n",
    "  print('Sick')  "
   ]
  },
  {
   "cell_type": "markdown",
   "metadata": {
    "id": "n64Ck1t1Do9_"
   },
   "source": [
    "### Trying Style transfer  "
   ]
  },
  {
   "cell_type": "code",
   "execution_count": 47,
   "metadata": {
    "id": "zePRLQYFDwn9"
   },
   "outputs": [],
   "source": [
    "from keras.applications.mobilenet import MobileNet, preprocess_input\n",
    "from keras.models import Model"
   ]
  },
  {
   "cell_type": "code",
   "execution_count": 48,
   "metadata": {
    "id": "10DOzeYNEjyl"
   },
   "outputs": [],
   "source": [
    "def preprocess_images_transfer(path):\n",
    "    # data augmentation\n",
    "    image_data = ImageDataGenerator(zoom_range=0.2, shear_range=0.2, rescale=1/255, horizontal_flip=True, preprocessing_function=preprocess_input)\n",
    "    image = image_data.flow_from_directory(directory=path, target_size=(630, 630), batch_size=32, class_mode='binary')\n",
    "    return image"
   ]
  },
  {
   "cell_type": "code",
   "execution_count": 49,
   "metadata": {
    "id": "V2Urn_JZFKlb"
   },
   "outputs": [],
   "source": [
    "def preprocess_test_images_transfer(path):\n",
    "    # data augmentation\n",
    "    image_data = ImageDataGenerator(preprocessing_function=preprocess_input)\n",
    "    image = image_data.flow_from_directory(directory=path, target_size=(630, 630), batch_size=32, class_mode='binary')\n",
    "    return image"
   ]
  },
  {
   "cell_type": "code",
   "execution_count": 51,
   "metadata": {
    "colab": {
     "base_uri": "https://localhost:8080/"
    },
    "id": "rnLnXbqzFYaK",
    "outputId": "d1a69f67-1f5e-4a79-98e6-c971a0fa1cd4"
   },
   "outputs": [
    {
     "name": "stdout",
     "output_type": "stream",
     "text": [
      "Found 1889 images belonging to 2 classes.\n"
     ]
    }
   ],
   "source": [
    "path = './train'\n",
    "train_data = preprocess_images_transfer(path)"
   ]
  },
  {
   "cell_type": "code",
   "execution_count": 52,
   "metadata": {
    "colab": {
     "base_uri": "https://localhost:8080/"
    },
    "id": "ZBm6RnnZFdaa",
    "outputId": "d4e39846-27e7-4d83-b7b0-99e57ef872f3"
   },
   "outputs": [
    {
     "name": "stdout",
     "output_type": "stream",
     "text": [
      "Found 397 images belonging to 2 classes.\n"
     ]
    }
   ],
   "source": [
    "path = './test'\n",
    "test_data = preprocess_images_transfer(path)"
   ]
  },
  {
   "cell_type": "code",
   "execution_count": 53,
   "metadata": {
    "colab": {
     "base_uri": "https://localhost:8080/"
    },
    "id": "LPKJ1YbBFi6u",
    "outputId": "50a405a1-b835-44e0-9601-37e46c2d91d3"
   },
   "outputs": [
    {
     "name": "stdout",
     "output_type": "stream",
     "text": [
      "Found 397 images belonging to 2 classes.\n"
     ]
    }
   ],
   "source": [
    "path = './validation'\n",
    "validation_data = preprocess_images_transfer(path)"
   ]
  },
  {
   "cell_type": "code",
   "execution_count": 54,
   "metadata": {
    "colab": {
     "base_uri": "https://localhost:8080/"
    },
    "id": "sN0uIjCiFmGZ",
    "outputId": "71c6896d-427b-4233-c132-da15b2254881"
   },
   "outputs": [
    {
     "name": "stdout",
     "output_type": "stream",
     "text": [
      "WARNING:tensorflow:`input_shape` is undefined or non-square, or `rows` is not in [128, 160, 192, 224]. Weights for input shape (224, 224) will be loaded as the default.\n",
      "Downloading data from https://storage.googleapis.com/tensorflow/keras-applications/mobilenet/mobilenet_1_0_224_tf_no_top.h5\n",
      "17227776/17225924 [==============================] - 0s 0us/step\n",
      "17235968/17225924 [==============================] - 0s 0us/step\n"
     ]
    }
   ],
   "source": [
    "transfer_model = MobileNet(input_shape=(630,630,3), include_top=False)"
   ]
  },
  {
   "cell_type": "code",
   "execution_count": 55,
   "metadata": {
    "id": "VLbWmW23FxvL"
   },
   "outputs": [],
   "source": [
    "for layer in transfer_model.layers:\n",
    "  layer.trainable = False"
   ]
  },
  {
   "cell_type": "code",
   "execution_count": 56,
   "metadata": {
    "colab": {
     "base_uri": "https://localhost:8080/"
    },
    "id": "IBlbfpWWMDo9",
    "outputId": "26b3d3ee-c243-407b-abfa-f7979b9070dc"
   },
   "outputs": [
    {
     "name": "stdout",
     "output_type": "stream",
     "text": [
      "Model: \"mobilenet_1.00_224\"\n",
      "_________________________________________________________________\n",
      " Layer (type)                Output Shape              Param #   \n",
      "=================================================================\n",
      " input_1 (InputLayer)        [(None, 630, 630, 3)]     0         \n",
      "                                                                 \n",
      " conv1 (Conv2D)              (None, 315, 315, 32)      864       \n",
      "                                                                 \n",
      " conv1_bn (BatchNormalizatio  (None, 315, 315, 32)     128       \n",
      " n)                                                              \n",
      "                                                                 \n",
      " conv1_relu (ReLU)           (None, 315, 315, 32)      0         \n",
      "                                                                 \n",
      " conv_dw_1 (DepthwiseConv2D)  (None, 315, 315, 32)     288       \n",
      "                                                                 \n",
      " conv_dw_1_bn (BatchNormaliz  (None, 315, 315, 32)     128       \n",
      " ation)                                                          \n",
      "                                                                 \n",
      " conv_dw_1_relu (ReLU)       (None, 315, 315, 32)      0         \n",
      "                                                                 \n",
      " conv_pw_1 (Conv2D)          (None, 315, 315, 64)      2048      \n",
      "                                                                 \n",
      " conv_pw_1_bn (BatchNormaliz  (None, 315, 315, 64)     256       \n",
      " ation)                                                          \n",
      "                                                                 \n",
      " conv_pw_1_relu (ReLU)       (None, 315, 315, 64)      0         \n",
      "                                                                 \n",
      " conv_pad_2 (ZeroPadding2D)  (None, 316, 316, 64)      0         \n",
      "                                                                 \n",
      " conv_dw_2 (DepthwiseConv2D)  (None, 157, 157, 64)     576       \n",
      "                                                                 \n",
      " conv_dw_2_bn (BatchNormaliz  (None, 157, 157, 64)     256       \n",
      " ation)                                                          \n",
      "                                                                 \n",
      " conv_dw_2_relu (ReLU)       (None, 157, 157, 64)      0         \n",
      "                                                                 \n",
      " conv_pw_2 (Conv2D)          (None, 157, 157, 128)     8192      \n",
      "                                                                 \n",
      " conv_pw_2_bn (BatchNormaliz  (None, 157, 157, 128)    512       \n",
      " ation)                                                          \n",
      "                                                                 \n",
      " conv_pw_2_relu (ReLU)       (None, 157, 157, 128)     0         \n",
      "                                                                 \n",
      " conv_dw_3 (DepthwiseConv2D)  (None, 157, 157, 128)    1152      \n",
      "                                                                 \n",
      " conv_dw_3_bn (BatchNormaliz  (None, 157, 157, 128)    512       \n",
      " ation)                                                          \n",
      "                                                                 \n",
      " conv_dw_3_relu (ReLU)       (None, 157, 157, 128)     0         \n",
      "                                                                 \n",
      " conv_pw_3 (Conv2D)          (None, 157, 157, 128)     16384     \n",
      "                                                                 \n",
      " conv_pw_3_bn (BatchNormaliz  (None, 157, 157, 128)    512       \n",
      " ation)                                                          \n",
      "                                                                 \n",
      " conv_pw_3_relu (ReLU)       (None, 157, 157, 128)     0         \n",
      "                                                                 \n",
      " conv_pad_4 (ZeroPadding2D)  (None, 158, 158, 128)     0         \n",
      "                                                                 \n",
      " conv_dw_4 (DepthwiseConv2D)  (None, 78, 78, 128)      1152      \n",
      "                                                                 \n",
      " conv_dw_4_bn (BatchNormaliz  (None, 78, 78, 128)      512       \n",
      " ation)                                                          \n",
      "                                                                 \n",
      " conv_dw_4_relu (ReLU)       (None, 78, 78, 128)       0         \n",
      "                                                                 \n",
      " conv_pw_4 (Conv2D)          (None, 78, 78, 256)       32768     \n",
      "                                                                 \n",
      " conv_pw_4_bn (BatchNormaliz  (None, 78, 78, 256)      1024      \n",
      " ation)                                                          \n",
      "                                                                 \n",
      " conv_pw_4_relu (ReLU)       (None, 78, 78, 256)       0         \n",
      "                                                                 \n",
      " conv_dw_5 (DepthwiseConv2D)  (None, 78, 78, 256)      2304      \n",
      "                                                                 \n",
      " conv_dw_5_bn (BatchNormaliz  (None, 78, 78, 256)      1024      \n",
      " ation)                                                          \n",
      "                                                                 \n",
      " conv_dw_5_relu (ReLU)       (None, 78, 78, 256)       0         \n",
      "                                                                 \n",
      " conv_pw_5 (Conv2D)          (None, 78, 78, 256)       65536     \n",
      "                                                                 \n",
      " conv_pw_5_bn (BatchNormaliz  (None, 78, 78, 256)      1024      \n",
      " ation)                                                          \n",
      "                                                                 \n",
      " conv_pw_5_relu (ReLU)       (None, 78, 78, 256)       0         \n",
      "                                                                 \n",
      " conv_pad_6 (ZeroPadding2D)  (None, 79, 79, 256)       0         \n",
      "                                                                 \n",
      " conv_dw_6 (DepthwiseConv2D)  (None, 39, 39, 256)      2304      \n",
      "                                                                 \n",
      " conv_dw_6_bn (BatchNormaliz  (None, 39, 39, 256)      1024      \n",
      " ation)                                                          \n",
      "                                                                 \n",
      " conv_dw_6_relu (ReLU)       (None, 39, 39, 256)       0         \n",
      "                                                                 \n",
      " conv_pw_6 (Conv2D)          (None, 39, 39, 512)       131072    \n",
      "                                                                 \n",
      " conv_pw_6_bn (BatchNormaliz  (None, 39, 39, 512)      2048      \n",
      " ation)                                                          \n",
      "                                                                 \n",
      " conv_pw_6_relu (ReLU)       (None, 39, 39, 512)       0         \n",
      "                                                                 \n",
      " conv_dw_7 (DepthwiseConv2D)  (None, 39, 39, 512)      4608      \n",
      "                                                                 \n",
      " conv_dw_7_bn (BatchNormaliz  (None, 39, 39, 512)      2048      \n",
      " ation)                                                          \n",
      "                                                                 \n",
      " conv_dw_7_relu (ReLU)       (None, 39, 39, 512)       0         \n",
      "                                                                 \n",
      " conv_pw_7 (Conv2D)          (None, 39, 39, 512)       262144    \n",
      "                                                                 \n",
      " conv_pw_7_bn (BatchNormaliz  (None, 39, 39, 512)      2048      \n",
      " ation)                                                          \n",
      "                                                                 \n",
      " conv_pw_7_relu (ReLU)       (None, 39, 39, 512)       0         \n",
      "                                                                 \n",
      " conv_dw_8 (DepthwiseConv2D)  (None, 39, 39, 512)      4608      \n",
      "                                                                 \n",
      " conv_dw_8_bn (BatchNormaliz  (None, 39, 39, 512)      2048      \n",
      " ation)                                                          \n",
      "                                                                 \n",
      " conv_dw_8_relu (ReLU)       (None, 39, 39, 512)       0         \n",
      "                                                                 \n",
      " conv_pw_8 (Conv2D)          (None, 39, 39, 512)       262144    \n",
      "                                                                 \n",
      " conv_pw_8_bn (BatchNormaliz  (None, 39, 39, 512)      2048      \n",
      " ation)                                                          \n",
      "                                                                 \n",
      " conv_pw_8_relu (ReLU)       (None, 39, 39, 512)       0         \n",
      "                                                                 \n",
      " conv_dw_9 (DepthwiseConv2D)  (None, 39, 39, 512)      4608      \n",
      "                                                                 \n",
      " conv_dw_9_bn (BatchNormaliz  (None, 39, 39, 512)      2048      \n",
      " ation)                                                          \n",
      "                                                                 \n",
      " conv_dw_9_relu (ReLU)       (None, 39, 39, 512)       0         \n",
      "                                                                 \n",
      " conv_pw_9 (Conv2D)          (None, 39, 39, 512)       262144    \n",
      "                                                                 \n",
      " conv_pw_9_bn (BatchNormaliz  (None, 39, 39, 512)      2048      \n",
      " ation)                                                          \n",
      "                                                                 \n",
      " conv_pw_9_relu (ReLU)       (None, 39, 39, 512)       0         \n",
      "                                                                 \n",
      " conv_dw_10 (DepthwiseConv2D  (None, 39, 39, 512)      4608      \n",
      " )                                                               \n",
      "                                                                 \n",
      " conv_dw_10_bn (BatchNormali  (None, 39, 39, 512)      2048      \n",
      " zation)                                                         \n",
      "                                                                 \n",
      " conv_dw_10_relu (ReLU)      (None, 39, 39, 512)       0         \n",
      "                                                                 \n",
      " conv_pw_10 (Conv2D)         (None, 39, 39, 512)       262144    \n",
      "                                                                 \n",
      " conv_pw_10_bn (BatchNormali  (None, 39, 39, 512)      2048      \n",
      " zation)                                                         \n",
      "                                                                 \n",
      " conv_pw_10_relu (ReLU)      (None, 39, 39, 512)       0         \n",
      "                                                                 \n",
      " conv_dw_11 (DepthwiseConv2D  (None, 39, 39, 512)      4608      \n",
      " )                                                               \n",
      "                                                                 \n",
      " conv_dw_11_bn (BatchNormali  (None, 39, 39, 512)      2048      \n",
      " zation)                                                         \n",
      "                                                                 \n",
      " conv_dw_11_relu (ReLU)      (None, 39, 39, 512)       0         \n",
      "                                                                 \n",
      " conv_pw_11 (Conv2D)         (None, 39, 39, 512)       262144    \n",
      "                                                                 \n",
      " conv_pw_11_bn (BatchNormali  (None, 39, 39, 512)      2048      \n",
      " zation)                                                         \n",
      "                                                                 \n",
      " conv_pw_11_relu (ReLU)      (None, 39, 39, 512)       0         \n",
      "                                                                 \n",
      " conv_pad_12 (ZeroPadding2D)  (None, 40, 40, 512)      0         \n",
      "                                                                 \n",
      " conv_dw_12 (DepthwiseConv2D  (None, 19, 19, 512)      4608      \n",
      " )                                                               \n",
      "                                                                 \n",
      " conv_dw_12_bn (BatchNormali  (None, 19, 19, 512)      2048      \n",
      " zation)                                                         \n",
      "                                                                 \n",
      " conv_dw_12_relu (ReLU)      (None, 19, 19, 512)       0         \n",
      "                                                                 \n",
      " conv_pw_12 (Conv2D)         (None, 19, 19, 1024)      524288    \n",
      "                                                                 \n",
      " conv_pw_12_bn (BatchNormali  (None, 19, 19, 1024)     4096      \n",
      " zation)                                                         \n",
      "                                                                 \n",
      " conv_pw_12_relu (ReLU)      (None, 19, 19, 1024)      0         \n",
      "                                                                 \n",
      " conv_dw_13 (DepthwiseConv2D  (None, 19, 19, 1024)     9216      \n",
      " )                                                               \n",
      "                                                                 \n",
      " conv_dw_13_bn (BatchNormali  (None, 19, 19, 1024)     4096      \n",
      " zation)                                                         \n",
      "                                                                 \n",
      " conv_dw_13_relu (ReLU)      (None, 19, 19, 1024)      0         \n",
      "                                                                 \n",
      " conv_pw_13 (Conv2D)         (None, 19, 19, 1024)      1048576   \n",
      "                                                                 \n",
      " conv_pw_13_bn (BatchNormali  (None, 19, 19, 1024)     4096      \n",
      " zation)                                                         \n",
      "                                                                 \n",
      " conv_pw_13_relu (ReLU)      (None, 19, 19, 1024)      0         \n",
      "                                                                 \n",
      "=================================================================\n",
      "Total params: 3,228,864\n",
      "Trainable params: 0\n",
      "Non-trainable params: 3,228,864\n",
      "_________________________________________________________________\n"
     ]
    }
   ],
   "source": [
    "transfer_model.summary()"
   ]
  },
  {
   "cell_type": "code",
   "execution_count": 58,
   "metadata": {
    "id": "n5qctsOcMIJr"
   },
   "outputs": [],
   "source": [
    "X = Flatten()(transfer_model.output)\n",
    "X = Dense(units=1, activation='sigmoid')(X)\n",
    "model3 = Model(transfer_model.input, X)\n",
    "\n",
    "early = EarlyStopping(\n",
    "    monitor='val_accuracy',\n",
    "    patience = 1,\n",
    "    min_delta = 0.01,\n",
    "    verbose = 1,\n",
    "    mode= 'auto'\n",
    ")\n",
    "checkpoint = ModelCheckpoint(\n",
    "    monitor='val_accuracy',\n",
    "    save_best_only=True,\n",
    "    mode='auto',\n",
    "    filepath='./transfer_model.h5',\n",
    "    verbose = 1\n",
    ")\n",
    "\n",
    "callbacks = [early, checkpoint]"
   ]
  },
  {
   "cell_type": "code",
   "execution_count": 59,
   "metadata": {
    "id": "xkX-m3GnNFYU"
   },
   "outputs": [],
   "source": [
    "model3.compile(optimizer='rmsprop', loss=keras.losses.BinaryCrossentropy(), metrics=['accuracy'])"
   ]
  },
  {
   "cell_type": "code",
   "execution_count": 60,
   "metadata": {
    "colab": {
     "base_uri": "https://localhost:8080/"
    },
    "id": "Q0YREYRRN58n",
    "outputId": "95f2843f-97ae-4b0a-fdd7-46f7f0c7acd0"
   },
   "outputs": [
    {
     "name": "stdout",
     "output_type": "stream",
     "text": [
      "Epoch 1/30\n",
      "46/46 [==============================] - ETA: 0s - loss: 25.0558 - accuracy: 0.5468\n",
      "Epoch 1: val_accuracy improved from -inf to 0.55919, saving model to ./transfer_model.h5\n",
      "46/46 [==============================] - 173s 4s/step - loss: 25.0558 - accuracy: 0.5468 - val_loss: 15.6305 - val_accuracy: 0.5592\n",
      "Epoch 2/30\n",
      "46/46 [==============================] - ETA: 0s - loss: 16.1574 - accuracy: 0.6031\n",
      "Epoch 2: val_accuracy improved from 0.55919 to 0.70277, saving model to ./transfer_model.h5\n",
      "46/46 [==============================] - 164s 4s/step - loss: 16.1574 - accuracy: 0.6031 - val_loss: 5.0135 - val_accuracy: 0.7028\n",
      "Epoch 3/30\n",
      "45/46 [============================>.] - ETA: 2s - loss: 16.2683 - accuracy: 0.6021\n",
      "Epoch 3: val_accuracy did not improve from 0.70277\n",
      "46/46 [==============================] - 163s 4s/step - loss: 16.2808 - accuracy: 0.6017 - val_loss: 70.7998 - val_accuracy: 0.5013\n",
      "Epoch 3: early stopping\n"
     ]
    }
   ],
   "source": [
    "history2 = model3.fit_generator(generator=train_data, \n",
    "    steps_per_epoch=46, \n",
    "    epochs=30, \n",
    "    verbose=1, \n",
    "    validation_data=validation_data, \n",
    "    validation_steps=13, \n",
    "    callbacks=callbacks\n",
    ")"
   ]
  },
  {
   "cell_type": "code",
   "execution_count": 61,
   "metadata": {
    "colab": {
     "base_uri": "https://localhost:8080/"
    },
    "id": "ddZY_PSbOFqI",
    "outputId": "9126aaa4-e60b-49b1-e20d-f15ef13436db"
   },
   "outputs": [
    {
     "data": {
      "text/plain": [
       "0.501259446144104"
      ]
     },
     "execution_count": 61,
     "metadata": {},
     "output_type": "execute_result"
    }
   ],
   "source": [
    "acc2 = model3.evaluate_generator(test_data)[1]\n",
    "acc2"
   ]
  },
  {
   "cell_type": "code",
   "execution_count": null,
   "metadata": {
    "id": "I75XgnCqQjru"
   },
   "outputs": [],
   "source": []
  }
 ],
 "metadata": {
  "accelerator": "GPU",
  "colab": {
   "collapsed_sections": [],
   "name": "BrainTumourDetection.ipynb",
   "provenance": []
  },
  "kernelspec": {
   "display_name": "Python 3 (ipykernel)",
   "language": "python",
   "name": "python3"
  },
  "language_info": {
   "codemirror_mode": {
    "name": "ipython",
    "version": 3
   },
   "file_extension": ".py",
   "mimetype": "text/x-python",
   "name": "python",
   "nbconvert_exporter": "python",
   "pygments_lexer": "ipython3",
   "version": "3.9.5"
  }
 },
 "nbformat": 4,
 "nbformat_minor": 1
}
